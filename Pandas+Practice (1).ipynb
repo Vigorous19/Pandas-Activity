{
 "cells": [
  {
   "cell_type": "markdown",
   "metadata": {
    "collapsed": true,
    "jupyter": {
     "outputs_hidden": true
    }
   },
   "source": [
    "# Part 1"
   ]
  },
  {
   "cell_type": "markdown",
   "metadata": {},
   "source": [
    "The file \"Purchase_Data.csv\" contains purchase data at a Chinese supermarket for various products.  Read this csv into a dataframe called df_data and use the head() method to check that you have read in the data correctly. Make sure you import pandas."
   ]
  },
  {
   "cell_type": "code",
   "execution_count": 1,
   "metadata": {
    "collapsed": false,
    "jupyter": {
     "outputs_hidden": false
    }
   },
   "outputs": [
    {
     "name": "stdout",
     "output_type": "stream",
     "text": [
      "   invoice_number   invoice_time store_id  product_id  category_id  num_item  \\\n",
      "0    2.020000e+11  7/15/15 10:45     G816     7000300       210101       1.0   \n",
      "1    2.020000e+11  7/15/15 12:16     G816     7070884        70203       1.0   \n",
      "2    2.020000e+11  7/15/15 12:16     G816     7070884        70203       1.0   \n",
      "3    2.020000e+11  7/15/15 12:16     G816     7070891        70401       1.0   \n",
      "4    2.020000e+11  7/15/15 12:16     G816     7090363        70401       1.0   \n",
      "\n",
      "   price  \n",
      "0    2.0  \n",
      "1    2.0  \n",
      "2    2.0  \n",
      "3    6.0  \n",
      "4    6.0  \n"
     ]
    }
   ],
   "source": [
    "import pandas as pd\n",
    "\n",
    "# Read the CSV file into a DataFrame\n",
    "df_data = pd.read_csv(\"Purchase_Data.csv\")\n",
    "\n",
    "# Display the first few rows of the DataFrame to check if data is read correctly\n",
    "print(df_data.head())\n",
    "#Write your code here\n"
   ]
  },
  {
   "cell_type": "markdown",
   "metadata": {},
   "source": [
    "Use the dtypes attribute to view how each column is stored"
   ]
  },
  {
   "cell_type": "code",
   "execution_count": 2,
   "metadata": {
    "collapsed": false,
    "jupyter": {
     "outputs_hidden": false
    }
   },
   "outputs": [
    {
     "name": "stdout",
     "output_type": "stream",
     "text": [
      "invoice_number    float64\n",
      "invoice_time       object\n",
      "store_id           object\n",
      "product_id          int64\n",
      "category_id         int64\n",
      "num_item          float64\n",
      "price             float64\n",
      "dtype: object\n"
     ]
    }
   ],
   "source": [
    "#Write your code here\n",
    "print(df_data.dtypes)"
   ]
  },
  {
   "cell_type": "markdown",
   "metadata": {},
   "source": [
    "Slice the first two columns using .loc and store the result in a variable called result_1."
   ]
  },
  {
   "cell_type": "code",
   "execution_count": 20,
   "metadata": {
    "collapsed": false,
    "jupyter": {
     "outputs_hidden": false
    }
   },
   "outputs": [
    {
     "name": "stdout",
     "output_type": "stream",
     "text": [
      "      invoice_number   invoice_time store_id  product_id\n",
      "0       2.020000e+11  7/15/15 10:45     G816     7000300\n",
      "1       2.020000e+11  7/15/15 12:16     G816     7070884\n",
      "2       2.020000e+11  7/15/15 12:16     G816     7070884\n",
      "3       2.020000e+11  7/15/15 12:16     G816     7070891\n",
      "4       2.020000e+11  7/15/15 12:16     G816     7090363\n",
      "...              ...            ...      ...         ...\n",
      "5377    2.020000e+11   9/5/15 23:07      300     7308017\n",
      "5378    2.020000e+11   9/5/15 23:23     G619     7070891\n",
      "5379    2.020000e+11   9/5/15 23:24     G619     7071096\n",
      "5380    2.020000e+11   9/5/15 23:32     G619    15000231\n",
      "5381    2.020000e+11   9/5/15 23:38     G619    23030206\n",
      "\n",
      "[5382 rows x 4 columns]\n"
     ]
    }
   ],
   "source": [
    "result_1 = df_data.loc[:, :'product_id']\n",
    "print(result_1)"
   ]
  },
  {
   "cell_type": "markdown",
   "metadata": {},
   "source": [
    "Slice the first two rows using .loc and store the result in a variable called result_2."
   ]
  },
  {
   "cell_type": "code",
   "execution_count": 21,
   "metadata": {
    "collapsed": false,
    "jupyter": {
     "outputs_hidden": false
    }
   },
   "outputs": [
    {
     "name": "stdout",
     "output_type": "stream",
     "text": [
      "   invoice_number   invoice_time store_id  product_id  category_id  num_item  \\\n",
      "0    2.020000e+11  7/15/15 10:45     G816     7000300       210101       1.0   \n",
      "1    2.020000e+11  7/15/15 12:16     G816     7070884        70203       1.0   \n",
      "\n",
      "   price  \n",
      "0    2.0  \n",
      "1    2.0  \n"
     ]
    }
   ],
   "source": [
    "result_2 = df_data.loc[:1, :]\n",
    "print(result_2)"
   ]
  },
  {
   "cell_type": "markdown",
   "metadata": {},
   "source": [
    "Slice the first four rows and the first five columns and store the result in a variable called result_3."
   ]
  },
  {
   "cell_type": "code",
   "execution_count": 23,
   "metadata": {
    "collapsed": false,
    "jupyter": {
     "outputs_hidden": false
    }
   },
   "outputs": [
    {
     "name": "stdout",
     "output_type": "stream",
     "text": [
      "   invoice_number   invoice_time store_id  product_id  category_id\n",
      "0    2.020000e+11  7/15/15 10:45     G816     7000300       210101\n",
      "1    2.020000e+11  7/15/15 12:16     G816     7070884        70203\n",
      "2    2.020000e+11  7/15/15 12:16     G816     7070884        70203\n",
      "3    2.020000e+11  7/15/15 12:16     G816     7070891        70401\n"
     ]
    }
   ],
   "source": [
    "result_3 = df_data.iloc[:4, :5]\n",
    "print(result_3)"
   ]
  },
  {
   "cell_type": "markdown",
   "metadata": {},
   "source": [
    "Slice rows 0,4,6 and columns invoice time and price and store the result in variable called result_4."
   ]
  },
  {
   "cell_type": "code",
   "execution_count": 24,
   "metadata": {
    "collapsed": false,
    "jupyter": {
     "outputs_hidden": false
    }
   },
   "outputs": [
    {
     "name": "stdout",
     "output_type": "stream",
     "text": [
      "    invoice_time  price\n",
      "0  7/15/15 10:45    2.0\n",
      "4  7/15/15 12:16    6.0\n",
      "6  7/15/15 15:28    2.0\n"
     ]
    }
   ],
   "source": [
    "result_4 = df_data.loc[[0, 4, 6], ['invoice_time', 'price']]\n",
    "print(result_4)"
   ]
  },
  {
   "cell_type": "markdown",
   "metadata": {},
   "source": [
    "Store the number rows in a variable called num_rows."
   ]
  },
  {
   "cell_type": "code",
   "execution_count": 25,
   "metadata": {
    "collapsed": false,
    "jupyter": {
     "outputs_hidden": false
    }
   },
   "outputs": [
    {
     "name": "stdout",
     "output_type": "stream",
     "text": [
      "5382\n"
     ]
    }
   ],
   "source": [
    "num_rows = len(df_data)\n",
    "print(num_rows)"
   ]
  },
  {
   "cell_type": "markdown",
   "metadata": {},
   "source": [
    "Print out the last row of the data to dataframe. **Hint:** use the variable num_rows from the previous exercise."
   ]
  },
  {
   "cell_type": "code",
   "execution_count": 26,
   "metadata": {
    "collapsed": false,
    "jupyter": {
     "outputs_hidden": false
    }
   },
   "outputs": [
    {
     "name": "stdout",
     "output_type": "stream",
     "text": [
      "invoice_number    202000000000.0\n",
      "invoice_time        9/5/15 23:38\n",
      "store_id                    G619\n",
      "product_id              23030206\n",
      "category_id               210101\n",
      "num_item                     1.0\n",
      "price                        2.0\n",
      "Name: 5381, dtype: object\n"
     ]
    }
   ],
   "source": [
    "print(df_data.iloc[num_rows - 1])"
   ]
  },
  {
   "cell_type": "markdown",
   "metadata": {},
   "source": [
    "# Part 2"
   ]
  },
  {
   "cell_type": "markdown",
   "metadata": {},
   "source": [
    "Compute the average and max price charged.  Store the results in variables called avg_price and max_price"
   ]
  },
  {
   "cell_type": "code",
   "execution_count": 27,
   "metadata": {
    "collapsed": false,
    "jupyter": {
     "outputs_hidden": false
    }
   },
   "outputs": [
    {
     "name": "stdout",
     "output_type": "stream",
     "text": [
      "Average Price:  3.1920522110741363\n",
      "Max Price:  6.01\n"
     ]
    }
   ],
   "source": [
    "#Write your code here\n",
    "avg_price = df_data['price'].mean()\n",
    "max_price = df_data['price'].max()\n",
    "\n",
    "print(\"Average Price: \", avg_price)\n",
    "print(\"Max Price: \", max_price)"
   ]
  },
  {
   "cell_type": "markdown",
   "metadata": {},
   "source": [
    "Compute the average price and average number of items purchased with only a single call to the mean() method. Store these averages in avg_price and avg_num_items."
   ]
  },
  {
   "cell_type": "code",
   "execution_count": 30,
   "metadata": {
    "collapsed": false,
    "jupyter": {
     "outputs_hidden": false
    }
   },
   "outputs": [
    {
     "name": "stdout",
     "output_type": "stream",
     "text": [
      "Average Price:  3.1920522110741363 Average of number of Items:  1.2983091787439613\n"
     ]
    }
   ],
   "source": [
    "#Write you code here\n",
    "avg_price, avg_num_items = df_data[['price', 'num_item']].mean()\n",
    "print(\"Average Price: \", avg_price, \"Average of number of Items: \",avg_num_items)"
   ]
  },
  {
   "cell_type": "markdown",
   "metadata": {},
   "source": [
    "Create a column called \"total\", which is the product of the price and num_item columns."
   ]
  },
  {
   "cell_type": "code",
   "execution_count": 31,
   "metadata": {
    "collapsed": false,
    "jupyter": {
     "outputs_hidden": false
    }
   },
   "outputs": [
    {
     "name": "stdout",
     "output_type": "stream",
     "text": [
      "   invoice_number   invoice_time store_id  product_id  category_id  num_item  \\\n",
      "0    2.020000e+11  7/15/15 10:45     G816     7000300       210101       1.0   \n",
      "1    2.020000e+11  7/15/15 12:16     G816     7070884        70203       1.0   \n",
      "2    2.020000e+11  7/15/15 12:16     G816     7070884        70203       1.0   \n",
      "3    2.020000e+11  7/15/15 12:16     G816     7070891        70401       1.0   \n",
      "4    2.020000e+11  7/15/15 12:16     G816     7090363        70401       1.0   \n",
      "\n",
      "   price  total  \n",
      "0    2.0    2.0  \n",
      "1    2.0    2.0  \n",
      "2    2.0    2.0  \n",
      "3    6.0    6.0  \n",
      "4    6.0    6.0  \n"
     ]
    }
   ],
   "source": [
    "#Write your code here\n",
    "df_data['total'] = df_data['price'] * df_data['num_item']\n",
    "print(df_data.head())"
   ]
  },
  {
   "cell_type": "markdown",
   "metadata": {},
   "source": [
    "What is the avgerage price of the three most expensive purchases? "
   ]
  },
  {
   "cell_type": "code",
   "execution_count": 34,
   "metadata": {
    "collapsed": false,
    "jupyter": {
     "outputs_hidden": false
    }
   },
   "outputs": [
    {
     "name": "stdout",
     "output_type": "stream",
     "text": [
      "Average of 3 most expensive price:  6.003333333333333\n"
     ]
    }
   ],
   "source": [
    "#Write your code here\n",
    "avg_three_most_expensive = df_data.nlargest(3, 'price')['price'].mean()\n",
    "print(\"Average of 3 most expensive price: \", avg_three_most_expensive)"
   ]
  },
  {
   "cell_type": "raw",
   "metadata": {},
   "source": [
    "How many different products are there?"
   ]
  },
  {
   "cell_type": "code",
   "execution_count": 36,
   "metadata": {
    "collapsed": false,
    "jupyter": {
     "outputs_hidden": false
    }
   },
   "outputs": [
    {
     "name": "stdout",
     "output_type": "stream",
     "text": [
      "<bound method IndexOpsMixin.nunique of 0        7000300\n",
      "1        7070884\n",
      "2        7070884\n",
      "3        7070891\n",
      "4        7090363\n",
      "          ...   \n",
      "5377     7308017\n",
      "5378     7070891\n",
      "5379     7071096\n",
      "5380    15000231\n",
      "5381    23030206\n",
      "Name: product_id, Length: 5382, dtype: int64>\n"
     ]
    }
   ],
   "source": [
    "#Write your code here\n",
    "num_different_products = df_data['product_id'].nunique\n",
    "print(num_different_products)"
   ]
  },
  {
   "cell_type": "markdown",
   "metadata": {},
   "source": [
    "Find the difference between the mean and median of the column total.  Use the describe() method and then index the dataframe it returns."
   ]
  },
  {
   "cell_type": "code",
   "execution_count": 38,
   "metadata": {
    "collapsed": false,
    "jupyter": {
     "outputs_hidden": false
    }
   },
   "outputs": [
    {
     "name": "stdout",
     "output_type": "stream",
     "text": [
      "Difference is:  0.9318078781127839\n"
     ]
    }
   ],
   "source": [
    "#Write your code here\n",
    "difference_mean_median = df_data['total'].describe()['mean'] - df_data['total'].describe()['50%']\n",
    "print(\"Difference is: \", difference_mean_median)"
   ]
  },
  {
   "cell_type": "markdown",
   "metadata": {},
   "source": [
    "Use the drop() method to delete the column total from the dataframe df_data."
   ]
  },
  {
   "cell_type": "code",
   "execution_count": 39,
   "metadata": {
    "collapsed": false,
    "jupyter": {
     "outputs_hidden": false
    }
   },
   "outputs": [
    {
     "name": "stdout",
     "output_type": "stream",
     "text": [
      "      invoice_number   invoice_time store_id  product_id  category_id  \\\n",
      "0       2.020000e+11  7/15/15 10:45     G816     7000300       210101   \n",
      "1       2.020000e+11  7/15/15 12:16     G816     7070884        70203   \n",
      "2       2.020000e+11  7/15/15 12:16     G816     7070884        70203   \n",
      "3       2.020000e+11  7/15/15 12:16     G816     7070891        70401   \n",
      "4       2.020000e+11  7/15/15 12:16     G816     7090363        70401   \n",
      "...              ...            ...      ...         ...          ...   \n",
      "5377    2.020000e+11   9/5/15 23:07      300     7308017       210101   \n",
      "5378    2.020000e+11   9/5/15 23:23     G619     7070891        70401   \n",
      "5379    2.020000e+11   9/5/15 23:24     G619     7071096        70201   \n",
      "5380    2.020000e+11   9/5/15 23:32     G619    15000231        70301   \n",
      "5381    2.020000e+11   9/5/15 23:38     G619    23030206       210101   \n",
      "\n",
      "      num_item  price  \n",
      "0          1.0    2.0  \n",
      "1          1.0    2.0  \n",
      "2          1.0    2.0  \n",
      "3          1.0    6.0  \n",
      "4          1.0    6.0  \n",
      "...        ...    ...  \n",
      "5377       1.0    3.0  \n",
      "5378       1.0    6.0  \n",
      "5379       1.0    5.0  \n",
      "5380       2.0    2.0  \n",
      "5381       1.0    2.0  \n",
      "\n",
      "[5382 rows x 7 columns]\n"
     ]
    }
   ],
   "source": [
    "#Write your code here\n",
    "df_data.drop(columns='total', inplace=True)\n",
    "print(df_data)"
   ]
  },
  {
   "cell_type": "markdown",
   "metadata": {},
   "source": [
    "First, covert the column invoice time to a datetime column. Print out the new column types to make sure this was done correctly"
   ]
  },
  {
   "cell_type": "code",
   "execution_count": 42,
   "metadata": {
    "collapsed": false,
    "jupyter": {
     "outputs_hidden": false
    }
   },
   "outputs": [
    {
     "name": "stdout",
     "output_type": "stream",
     "text": [
      "invoice_number           float64\n",
      "invoice_time      datetime64[ns]\n",
      "store_id                  object\n",
      "product_id                 int64\n",
      "category_id                int64\n",
      "num_item                 float64\n",
      "price                    float64\n",
      "dtype: object\n"
     ]
    }
   ],
   "source": [
    "#Write your code here\n",
    "df_data['invoice_time'] = pd.to_datetime(df_data['invoice_time'], format='%m/%d/%Y %H:%M:%S')\n",
    "# Print out the new column types\n",
    "print(df_data.dtypes)"
   ]
  },
  {
   "cell_type": "markdown",
   "metadata": {},
   "source": [
    "Next, let's create columns called \"DOW\" and \"Month\", which store the corresponding weekday and month of the invoice respectively.  Print the head of the dataframe to make sure this was done correctly."
   ]
  },
  {
   "cell_type": "code",
   "execution_count": 43,
   "metadata": {
    "collapsed": false,
    "jupyter": {
     "outputs_hidden": false
    }
   },
   "outputs": [
    {
     "name": "stdout",
     "output_type": "stream",
     "text": [
      "   invoice_number        invoice_time store_id  product_id  category_id  \\\n",
      "0    2.020000e+11 2015-07-15 10:45:00     G816     7000300       210101   \n",
      "1    2.020000e+11 2015-07-15 12:16:00     G816     7070884        70203   \n",
      "2    2.020000e+11 2015-07-15 12:16:00     G816     7070884        70203   \n",
      "3    2.020000e+11 2015-07-15 12:16:00     G816     7070891        70401   \n",
      "4    2.020000e+11 2015-07-15 12:16:00     G816     7090363        70401   \n",
      "\n",
      "   num_item  price  DOW  Month  \n",
      "0       1.0    2.0    2      7  \n",
      "1       1.0    2.0    2      7  \n",
      "2       1.0    2.0    2      7  \n",
      "3       1.0    6.0    2      7  \n",
      "4       1.0    6.0    2      7  \n"
     ]
    }
   ],
   "source": [
    "#Write your code here\n",
    "df_data['DOW'] = df_data['invoice_time'].dt.dayofweek\n",
    "df_data['Month'] = df_data['invoice_time'].dt.month\n",
    "# Print the head of the dataframe\n",
    "print(df_data.head())"
   ]
  },
  {
   "cell_type": "markdown",
   "metadata": {},
   "source": [
    "Create a variable called num_purchases_wed, which stores the number of purchases made on Wednesday?  You should use value_counts and then index the series it return."
   ]
  },
  {
   "cell_type": "code",
   "execution_count": 47,
   "metadata": {
    "collapsed": false,
    "jupyter": {
     "outputs_hidden": false
    }
   },
   "outputs": [
    {
     "name": "stdout",
     "output_type": "stream",
     "text": [
      "Purchases made in Wednesday:  959\n"
     ]
    }
   ],
   "source": [
    "#Write your code here\n",
    "num_purchases_wed = df_data['DOW'].value_counts()[2]  \n",
    "# 2 represents Wednesday\n",
    "print(\"Purchases made in Wednesday: \", num_purchases_wed)"
   ]
  },
  {
   "cell_type": "markdown",
   "metadata": {},
   "source": [
    "# Part 3"
   ]
  },
  {
   "cell_type": "markdown",
   "metadata": {},
   "source": [
    "In this set of practice exercises, we will be working with a demographic data regarding the passengers aboard the Titanic.  Read in the data frame and use the head() method to check that it was read in correctly."
   ]
  },
  {
   "cell_type": "code",
   "execution_count": 48,
   "metadata": {
    "collapsed": false,
    "jupyter": {
     "outputs_hidden": false
    }
   },
   "outputs": [
    {
     "name": "stdout",
     "output_type": "stream",
     "text": [
      "   PassengerId  Pclass                                          Name     Sex  \\\n",
      "0          892       3                              Kelly, Mr. James    male   \n",
      "1          893       3              Wilkes, Mrs. James (Ellen Needs)  female   \n",
      "2          894       2                     Myles, Mr. Thomas Francis    male   \n",
      "3          895       3                              Wirz, Mr. Albert    male   \n",
      "4          896       3  Hirvonen, Mrs. Alexander (Helga E Lindqvist)  female   \n",
      "\n",
      "    Age  SibSp  Parch   Ticket     Fare Cabin Embarked  \n",
      "0  34.5      0      0   330911   7.8292   NaN        Q  \n",
      "1  47.0      1      0   363272   7.0000   NaN        S  \n",
      "2  62.0      0      0   240276   9.6875   NaN        Q  \n",
      "3  27.0      0      0   315154   8.6625   NaN        S  \n",
      "4  22.0      1      1  3101298  12.2875   NaN        S  \n"
     ]
    }
   ],
   "source": [
    "import pandas as pd\n",
    "\n",
    "# Read in the DataFrame\n",
    "df_titanic = pd.read_csv(\"titanic.csv\")\n",
    "\n",
    "# Check the first few rows\n",
    "print(df_titanic.head())"
   ]
  },
  {
   "cell_type": "markdown",
   "metadata": {},
   "source": [
    "Use the rename method to change the column \"Name\" to \"Passenger_Name\" and the column \"Ticket\" to \"Ticket_Num\"."
   ]
  },
  {
   "cell_type": "code",
   "execution_count": 50,
   "metadata": {
    "collapsed": false,
    "jupyter": {
     "outputs_hidden": false
    }
   },
   "outputs": [
    {
     "name": "stdout",
     "output_type": "stream",
     "text": [
      "     PassengerId  Pclass                                Passenger_Name  \\\n",
      "0            892       3                              Kelly, Mr. James   \n",
      "1            893       3              Wilkes, Mrs. James (Ellen Needs)   \n",
      "2            894       2                     Myles, Mr. Thomas Francis   \n",
      "3            895       3                              Wirz, Mr. Albert   \n",
      "4            896       3  Hirvonen, Mrs. Alexander (Helga E Lindqvist)   \n",
      "..           ...     ...                                           ...   \n",
      "413         1305       3                            Spector, Mr. Woolf   \n",
      "414         1306       1                  Oliva y Ocana, Dona. Fermina   \n",
      "415         1307       3                  Saether, Mr. Simon Sivertsen   \n",
      "416         1308       3                           Ware, Mr. Frederick   \n",
      "417         1309       3                      Peter, Master. Michael J   \n",
      "\n",
      "        Sex   Age  SibSp  Parch          Ticket_Num      Fare Cabin Embarked  \n",
      "0      male  34.5      0      0              330911    7.8292   NaN        Q  \n",
      "1    female  47.0      1      0              363272    7.0000   NaN        S  \n",
      "2      male  62.0      0      0              240276    9.6875   NaN        Q  \n",
      "3      male  27.0      0      0              315154    8.6625   NaN        S  \n",
      "4    female  22.0      1      1             3101298   12.2875   NaN        S  \n",
      "..      ...   ...    ...    ...                 ...       ...   ...      ...  \n",
      "413    male   NaN      0      0           A.5. 3236    8.0500   NaN        S  \n",
      "414  female  39.0      0      0            PC 17758  108.9000  C105        C  \n",
      "415    male  38.5      0      0  SOTON/O.Q. 3101262    7.2500   NaN        S  \n",
      "416    male   NaN      0      0              359309    8.0500   NaN        S  \n",
      "417    male   NaN      1      1                2668   22.3583   NaN        C  \n",
      "\n",
      "[418 rows x 11 columns]\n"
     ]
    }
   ],
   "source": [
    "#Write your code here\n",
    "df_titanic.rename(columns={'Name': 'Passenger_Name', 'Ticket': 'Ticket_Num'}, inplace=True)\n",
    "print(df_titanic)"
   ]
  },
  {
   "cell_type": "markdown",
   "metadata": {},
   "source": [
    "Change the index of the df_titanic to the column PasengerID."
   ]
  },
  {
   "cell_type": "code",
   "execution_count": 52,
   "metadata": {
    "collapsed": false,
    "jupyter": {
     "outputs_hidden": false
    },
    "scrolled": true
   },
   "outputs": [
    {
     "name": "stdout",
     "output_type": "stream",
     "text": [
      "             Pclass                                Passenger_Name     Sex  \\\n",
      "PassengerId                                                                 \n",
      "892               3                              Kelly, Mr. James    male   \n",
      "893               3              Wilkes, Mrs. James (Ellen Needs)  female   \n",
      "894               2                     Myles, Mr. Thomas Francis    male   \n",
      "895               3                              Wirz, Mr. Albert    male   \n",
      "896               3  Hirvonen, Mrs. Alexander (Helga E Lindqvist)  female   \n",
      "...             ...                                           ...     ...   \n",
      "1305              3                            Spector, Mr. Woolf    male   \n",
      "1306              1                  Oliva y Ocana, Dona. Fermina  female   \n",
      "1307              3                  Saether, Mr. Simon Sivertsen    male   \n",
      "1308              3                           Ware, Mr. Frederick    male   \n",
      "1309              3                      Peter, Master. Michael J    male   \n",
      "\n",
      "              Age  SibSp  Parch          Ticket_Num      Fare Cabin Embarked  \n",
      "PassengerId                                                                   \n",
      "892          34.5      0      0              330911    7.8292   NaN        Q  \n",
      "893          47.0      1      0              363272    7.0000   NaN        S  \n",
      "894          62.0      0      0              240276    9.6875   NaN        Q  \n",
      "895          27.0      0      0              315154    8.6625   NaN        S  \n",
      "896          22.0      1      1             3101298   12.2875   NaN        S  \n",
      "...           ...    ...    ...                 ...       ...   ...      ...  \n",
      "1305          NaN      0      0           A.5. 3236    8.0500   NaN        S  \n",
      "1306         39.0      0      0            PC 17758  108.9000  C105        C  \n",
      "1307         38.5      0      0  SOTON/O.Q. 3101262    7.2500   NaN        S  \n",
      "1308          NaN      0      0              359309    8.0500   NaN        S  \n",
      "1309          NaN      1      1                2668   22.3583   NaN        C  \n",
      "\n",
      "[418 rows x 10 columns]\n"
     ]
    }
   ],
   "source": [
    "#Write your code here\n",
    "df_titanic.set_index('PassengerId', inplace=True)\n",
    "print(df_titanic)"
   ]
  },
  {
   "cell_type": "markdown",
   "metadata": {},
   "source": [
    "Select the name of passenger 896"
   ]
  },
  {
   "cell_type": "code",
   "execution_count": 53,
   "metadata": {
    "collapsed": false,
    "jupyter": {
     "outputs_hidden": false
    }
   },
   "outputs": [
    {
     "name": "stdout",
     "output_type": "stream",
     "text": [
      "Hirvonen, Mrs. Alexander (Helga E Lindqvist)\n"
     ]
    }
   ],
   "source": [
    "#Write your code here\n",
    "passenger_896_name = df_titanic.loc[896, 'Passenger_Name']\n",
    "print(passenger_896_name)"
   ]
  },
  {
   "cell_type": "markdown",
   "metadata": {},
   "source": [
    "Change the index back to row numbers but making sure that we don't lose the PassengerId column. "
   ]
  },
  {
   "cell_type": "code",
   "execution_count": 54,
   "metadata": {
    "collapsed": false,
    "jupyter": {
     "outputs_hidden": false
    }
   },
   "outputs": [
    {
     "name": "stdout",
     "output_type": "stream",
     "text": [
      "     PassengerId  Pclass                                Passenger_Name  \\\n",
      "0            892       3                              Kelly, Mr. James   \n",
      "1            893       3              Wilkes, Mrs. James (Ellen Needs)   \n",
      "2            894       2                     Myles, Mr. Thomas Francis   \n",
      "3            895       3                              Wirz, Mr. Albert   \n",
      "4            896       3  Hirvonen, Mrs. Alexander (Helga E Lindqvist)   \n",
      "..           ...     ...                                           ...   \n",
      "413         1305       3                            Spector, Mr. Woolf   \n",
      "414         1306       1                  Oliva y Ocana, Dona. Fermina   \n",
      "415         1307       3                  Saether, Mr. Simon Sivertsen   \n",
      "416         1308       3                           Ware, Mr. Frederick   \n",
      "417         1309       3                      Peter, Master. Michael J   \n",
      "\n",
      "        Sex   Age  SibSp  Parch          Ticket_Num      Fare Cabin Embarked  \n",
      "0      male  34.5      0      0              330911    7.8292   NaN        Q  \n",
      "1    female  47.0      1      0              363272    7.0000   NaN        S  \n",
      "2      male  62.0      0      0              240276    9.6875   NaN        Q  \n",
      "3      male  27.0      0      0              315154    8.6625   NaN        S  \n",
      "4    female  22.0      1      1             3101298   12.2875   NaN        S  \n",
      "..      ...   ...    ...    ...                 ...       ...   ...      ...  \n",
      "413    male   NaN      0      0           A.5. 3236    8.0500   NaN        S  \n",
      "414  female  39.0      0      0            PC 17758  108.9000  C105        C  \n",
      "415    male  38.5      0      0  SOTON/O.Q. 3101262    7.2500   NaN        S  \n",
      "416    male   NaN      0      0              359309    8.0500   NaN        S  \n",
      "417    male   NaN      1      1                2668   22.3583   NaN        C  \n",
      "\n",
      "[418 rows x 11 columns]\n"
     ]
    }
   ],
   "source": [
    "#Write your code here\n",
    "df_titanic.reset_index(inplace=True)\n",
    "print(df_titanic)"
   ]
  },
  {
   "cell_type": "markdown",
   "metadata": {},
   "source": [
    "How many missing entries are there in the Age column? Use the isnull() method and recall than Booleans are exactly like 1s (True) and 0s (False)."
   ]
  },
  {
   "cell_type": "code",
   "execution_count": 55,
   "metadata": {
    "collapsed": false,
    "jupyter": {
     "outputs_hidden": false
    }
   },
   "outputs": [
    {
     "name": "stdout",
     "output_type": "stream",
     "text": [
      "Number of missing entries in the Age column: 86\n"
     ]
    }
   ],
   "source": [
    "#Write you code here\n",
    "missing_age_count = df_titanic['Age'].isnull().sum()\n",
    "print(\"Number of missing entries in the Age column:\", missing_age_count)"
   ]
  },
  {
   "cell_type": "markdown",
   "metadata": {},
   "source": [
    "Compute the avg age of passengers ignoring the missing data."
   ]
  },
  {
   "cell_type": "code",
   "execution_count": 56,
   "metadata": {
    "collapsed": false,
    "jupyter": {
     "outputs_hidden": false
    }
   },
   "outputs": [
    {
     "name": "stdout",
     "output_type": "stream",
     "text": [
      "Average age of passengers ignoring missing data: 30.272590361445783\n"
     ]
    }
   ],
   "source": [
    "#Write your code here\n",
    "avg_age_without_missing = df_titanic['Age'].mean(skipna=True)\n",
    "print(\"Average age of passengers ignoring missing data:\", avg_age_without_missing)"
   ]
  },
  {
   "cell_type": "markdown",
   "metadata": {},
   "source": [
    "Using the fillna() method replace the missing values in the Age column with the mean."
   ]
  },
  {
   "cell_type": "code",
   "execution_count": 58,
   "metadata": {
    "collapsed": false,
    "jupyter": {
     "outputs_hidden": false
    }
   },
   "outputs": [
    {
     "name": "stdout",
     "output_type": "stream",
     "text": [
      "     PassengerId  Pclass                                Passenger_Name  \\\n",
      "0            892       3                              Kelly, Mr. James   \n",
      "1            893       3              Wilkes, Mrs. James (Ellen Needs)   \n",
      "2            894       2                     Myles, Mr. Thomas Francis   \n",
      "3            895       3                              Wirz, Mr. Albert   \n",
      "4            896       3  Hirvonen, Mrs. Alexander (Helga E Lindqvist)   \n",
      "..           ...     ...                                           ...   \n",
      "413         1305       3                            Spector, Mr. Woolf   \n",
      "414         1306       1                  Oliva y Ocana, Dona. Fermina   \n",
      "415         1307       3                  Saether, Mr. Simon Sivertsen   \n",
      "416         1308       3                           Ware, Mr. Frederick   \n",
      "417         1309       3                      Peter, Master. Michael J   \n",
      "\n",
      "        Sex       Age  SibSp  Parch          Ticket_Num      Fare Cabin  \\\n",
      "0      male  34.50000      0      0              330911    7.8292   NaN   \n",
      "1    female  47.00000      1      0              363272    7.0000   NaN   \n",
      "2      male  62.00000      0      0              240276    9.6875   NaN   \n",
      "3      male  27.00000      0      0              315154    8.6625   NaN   \n",
      "4    female  22.00000      1      1             3101298   12.2875   NaN   \n",
      "..      ...       ...    ...    ...                 ...       ...   ...   \n",
      "413    male  30.27259      0      0           A.5. 3236    8.0500   NaN   \n",
      "414  female  39.00000      0      0            PC 17758  108.9000  C105   \n",
      "415    male  38.50000      0      0  SOTON/O.Q. 3101262    7.2500   NaN   \n",
      "416    male  30.27259      0      0              359309    8.0500   NaN   \n",
      "417    male  30.27259      1      1                2668   22.3583   NaN   \n",
      "\n",
      "    Embarked  \n",
      "0          Q  \n",
      "1          S  \n",
      "2          Q  \n",
      "3          S  \n",
      "4          S  \n",
      "..       ...  \n",
      "413        S  \n",
      "414        C  \n",
      "415        S  \n",
      "416        S  \n",
      "417        C  \n",
      "\n",
      "[418 rows x 11 columns]\n"
     ]
    }
   ],
   "source": [
    "#Write your code here\n",
    "df_titanic['Age'].fillna(avg_age_without_missing, inplace=True)\n",
    "print(df_titanic)"
   ]
  },
  {
   "cell_type": "markdown",
   "metadata": {},
   "source": [
    "What is the average age of the 5 oldest passengers? The reset_index method will be helpful here."
   ]
  },
  {
   "cell_type": "code",
   "execution_count": 59,
   "metadata": {
    "collapsed": false,
    "jupyter": {
     "outputs_hidden": false
    }
   },
   "outputs": [
    {
     "name": "stdout",
     "output_type": "stream",
     "text": [
      "Average age of the 5 oldest passengers: 67.0\n"
     ]
    }
   ],
   "source": [
    "#Write your code here\n",
    "avg_age_oldest_5 = df_titanic.sort_values(by='Age', ascending=False).head(5)['Age'].mean()\n",
    "print(\"Average age of the 5 oldest passengers:\", avg_age_oldest_5)"
   ]
  },
  {
   "cell_type": "code",
   "execution_count": null,
   "metadata": {},
   "outputs": [],
   "source": []
  }
 ],
 "metadata": {
  "kernelspec": {
   "display_name": "Python 3 (ipykernel)",
   "language": "python",
   "name": "python3"
  },
  "language_info": {
   "codemirror_mode": {
    "name": "ipython",
    "version": 3
   },
   "file_extension": ".py",
   "mimetype": "text/x-python",
   "name": "python",
   "nbconvert_exporter": "python",
   "pygments_lexer": "ipython3",
   "version": "3.11.7"
  },
  "toc": {
   "nav_menu": {
    "height": "48px",
    "width": "252px"
   },
   "number_sections": true,
   "sideBar": true,
   "skip_h1_title": false,
   "toc_cell": false,
   "toc_position": {},
   "toc_section_display": "block",
   "toc_window_display": false
  }
 },
 "nbformat": 4,
 "nbformat_minor": 4
}
